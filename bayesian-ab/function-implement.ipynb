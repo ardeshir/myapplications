{
 "cells": [
  {
   "cell_type": "code",
   "execution_count": 2,
   "metadata": {},
   "outputs": [],
   "source": [
    "import numpy as np\n",
    "from scipy import special as sp\n",
    "from matplotlib import pyplot as plt\n",
    "%matplotlib inline"
   ]
  },
  {
   "cell_type": "code",
   "execution_count": 3,
   "metadata": {},
   "outputs": [],
   "source": [
    "test_data = np.genfromtxt('demo-data.csv', \n",
    "                          delimiter=',',\n",
    "                          dtype='int',\n",
    "                          names=True)"
   ]
  },
  {
   "cell_type": "code",
   "execution_count": 42,
   "metadata": {},
   "outputs": [],
   "source": [
    "def simulate_data(success_rate, n_periods, n_per_low, n_per_high):\n",
    "    \"\"\"Simulates observations of (converted, not_converted) data based on the success_rate\n",
    "    for N_periods, with a number of trials per period between N_per_low and N_per_high\"\"\"\n",
    "    result = []\n",
    "    for i in range(n_periods):\n",
    "        num_trials = np.random.randint(n_per_low, n_per_high)\n",
    "        num_successes = np.random.binomial(num_trials, success_rate, 1)[0]\n",
    "        num_failures = num_trials - num_successes\n",
    "        result.append((num_successes, num_failures))\n",
    "    return result"
   ]
  },
  {
   "cell_type": "code",
   "execution_count": 44,
   "metadata": {},
   "outputs": [],
   "source": [
    "def add_ones(a_control, B_control, a_test, B_test):\n",
    "    \"\"\"Adds one to all input parameters\"\"\"\n",
    "    a_control += 1\n",
    "    B_control += 1\n",
    "    a_test += 1\n",
    "    B_test += 1\n",
    "    return a_control, B_control, a_test, B_test"
   ]
  },
  {
   "cell_type": "code",
   "execution_count": 49,
   "metadata": {},
   "outputs": [],
   "source": [
    "#source: http://www.evanmiller.org/bayesian-ab-testing.html\n",
    "def probability_test_wins(a_control, B_control, a_test, B_test):\n",
    "    \"\"\"Uses beta distribution to compute the % chance that _test has a better conversion \n",
    "    rate than _control\"\"\"\n",
    "    a_control, B_control, a_test, B_test = add_ones(a_control, B_control, a_test, B_test)\n",
    "    total = 0.0\n",
    "    for i in range(0, a_test - 1):\n",
    "        total += np.exp(\n",
    "                          sp.betaln(a_control + i, B_control + B_test) \n",
    "                        - np.log(B_test + i)\n",
    "                        - sp.betaln(1 + i, B_test) \n",
    "                        - sp.betaln(a_control, B_control)\n",
    "                       )\n",
    "    return total"
   ]
  },
  {
   "cell_type": "code",
   "execution_count": 81,
   "metadata": {},
   "outputs": [],
   "source": [
    "test_success_rate = 0.16\n",
    "control_success_rate = 0.15\n",
    "N = 100\n",
    "N_per_low = 80\n",
    "N_per_high = 100\n",
    "\n",
    "test_data = simulate_data(success_rate=test_success_rate, \n",
    "                          n_periods=N, \n",
    "                          n_per_low=N_per_low, \n",
    "                          n_per_high=N_per_high)\n",
    "\n",
    "control_data = simulate_data(success_rate=control_success_rate, \n",
    "                             n_periods=N, \n",
    "                             n_per_low=N_per_low, \n",
    "                             n_per_high=N_per_high)\n",
    "\n",
    "N = len(test_data)\n",
    "results = [0.00 for i in range(N)]"
   ]
  },
  {
   "cell_type": "code",
   "execution_count": 82,
   "metadata": {},
   "outputs": [],
   "source": [
    "test_success_cum, test_failure_cum, control_success_cum, control_failure_cum = 0, 0, 0, 0\n",
    "for i in range(len(results)):\n",
    "    test_success = test_data[i][0]\n",
    "    test_failure = test_data[i][1]\n",
    "    control_success = control_data[i][0]\n",
    "    control_failure = control_data[i][1]\n",
    "    \n",
    "    test_success_cum += test_success\n",
    "    test_failure_cum += test_failure\n",
    "    control_success_cum += control_success\n",
    "    control_failure_cum += control_failure\n",
    "    \n",
    "    result = probability_test_wins(a_control=control_success_cum, \n",
    "                                   B_control=control_failure_cum,\n",
    "                                   a_test=test_success_cum, \n",
    "                                   B_test=test_failure_cum)\n",
    "    \n",
    "    results[i] = result"
   ]
  },
  {
   "cell_type": "code",
   "execution_count": 83,
   "metadata": {},
   "outputs": [
    {
     "data": {
      "text/plain": [
       "[<matplotlib.lines.Line2D at 0x110365978>]"
      ]
     },
     "execution_count": 83,
     "metadata": {},
     "output_type": "execute_result"
    },
    {
     "data": {
      "image/png": "[encoded data removed]",
      "text/plain": [
       "<Figure size 432x288 with 1 Axes>"
      ]
     },
     "metadata": {},
     "output_type": "display_data"
    }
   ],
   "source": [
    "plt.plot(results)"
   ]
  },
  {
   "cell_type": "code",
   "execution_count": null,
   "metadata": {},
   "outputs": [],
   "source": []
  }
 ],
 "metadata": {
  "kernelspec": {
   "display_name": "Python 3",
   "language": "python",
   "name": "python3"
  },
  "language_info": {
   "codemirror_mode": {
    "name": "ipython",
    "version": 3
   },
   "file_extension": ".py",
   "mimetype": "text/x-python",
   "name": "python",
   "nbconvert_exporter": "python",
   "pygments_lexer": "ipython3",
   "version": "3.6.5"
  }
 },
 "nbformat": 4,
 "nbformat_minor": 2
}
