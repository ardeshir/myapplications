{
 "cells": [
  {
   "cell_type": "code",
   "execution_count": 62,
   "metadata": {},
   "outputs": [],
   "source": [
    "import numpy as np\n",
    "from scipy import special as sp\n",
    "from matplotlib import pyplot as plt\n",
    "%matplotlib inline"
   ]
  },
  {
   "cell_type": "code",
   "execution_count": 63,
   "metadata": {},
   "outputs": [],
   "source": [
    "test_data = np.genfromtxt('demo-data.csv', \n",
    "                          delimiter=',',\n",
    "                          dtype='int',\n",
    "                          names=True)"
   ]
  },
  {
   "cell_type": "code",
   "execution_count": 64,
   "metadata": {},
   "outputs": [],
   "source": [
    "#np.random.binomial(100, .15, 100)\n",
    "#np.random.beta(10, 50, 100)\n",
    "#test_success = np.random.binomial(100, .15, 100)\n",
    "#test_success"
   ]
  },
  {
   "cell_type": "code",
   "execution_count": 65,
   "metadata": {},
   "outputs": [],
   "source": [
    "def add_ones(a_control, B_control, a_test, B_test):\n",
    "    \"\"\"Adds one to all input parameters\"\"\"\n",
    "    a_control += 1\n",
    "    B_control += 1\n",
    "    a_test += 1\n",
    "    B_test += 1\n",
    "    return a_control, B_control, a_test, B_test"
   ]
  },
  {
   "cell_type": "code",
   "execution_count": 66,
   "metadata": {},
   "outputs": [],
   "source": [
    "#source: http://www.evanmiller.org/bayesian-ab-testing.html\n",
    "def probability_test_wins(a_control, B_control, a_test, B_test):\n",
    "    \"\"\"Uses beta distribution to compute the % chance that _test has a better conversion \n",
    "    rate than _control\"\"\"\n",
    "    a_control, B_control, a_test, B_test = add_ones(a_control, B_control, a_test, B_test)\n",
    "    total = 0.0\n",
    "    for i in range(0, a_test - 1):\n",
    "        total += np.exp(\n",
    "                          sp.betaln(a_control + i, B_control + B_test) \n",
    "                        - np.log(B_test + i)\n",
    "                        - sp.betaln(1 + i, B_test) \n",
    "                        - sp.betaln(a_control, B_control)\n",
    "                       )\n",
    "    return total"
   ]
  },
  {
   "cell_type": "code",
   "execution_count": 67,
   "metadata": {},
   "outputs": [],
   "source": [
    "def run_analysis(test_data):\n",
    "    test_success_cum, test_failure_cum, control_success_cum, control_failure_cum = 0, 0, 0, 0\n",
    "    # test the probability test beats control on cumulative counts for each observation.\n",
    "    # This represents all the possible test information current as of the date in question.\n",
    "    N = test_data.shape[0]\n",
    "    results = [{'obs': i, 'p':0.00, 'test_cumulative': 0.00, 'control_cumulative': 0.00} \n",
    "               for i in range(N)]\n",
    "    for i in range(len(results)):\n",
    "        test_success = test_data['test_success'][i]\n",
    "        test_failure = test_data['test_total'][i] - test_success\n",
    "        control_success = test_data['control_success'][i]\n",
    "        control_failure = test_data['control_total'][i] - control_success\n",
    "        \n",
    "        test_success_cum += test_success\n",
    "        test_failure_cum += test_failure\n",
    "        control_success_cum += control_success\n",
    "        control_failure_cum += control_failure\n",
    "        \n",
    "        \n",
    "        test_cumulative = test_success_cum / (test_success_cum + test_failure_cum)\n",
    "        control_cumulative = control_success_cum / (control_success_cum + control_failure_cum)\n",
    "        p_win = probability_test_wins(a_control=control_success_cum, \n",
    "                                       B_control=control_failure_cum,\n",
    "                                       a_test=test_success_cum, \n",
    "                                       B_test=test_failure_cum)\n",
    "        \n",
    "        #\n",
    "        results[i]['p'] = p_win\n",
    "        results[i]['test_cumulative'] = test_cumulative\n",
    "        results[i]['control_cumulative'] = control_cumulative\n",
    "    return results"
   ]
  },
  {
   "cell_type": "code",
   "execution_count": 68,
   "metadata": {},
   "outputs": [],
   "source": [
    "results = run_analysis(test_data)"
   ]
  },
  {
   "cell_type": "code",
   "execution_count": 69,
   "metadata": {},
   "outputs": [
    {
     "data": {
      "text/plain": [
       "{'obs': 140,\n",
       " 'p': 1.0000000000152893,\n",
       " 'test_cumulative': 0.15981683532138619,\n",
       " 'control_cumulative': 0.11568583575744014}"
      ]
     },
     "execution_count": 69,
     "metadata": {},
     "output_type": "execute_result"
    }
   ],
   "source": [
    "# look at cumulative stats from last observation to get current difference:\n",
    "results[-1]"
   ]
  },
  {
   "cell_type": "code",
   "execution_count": 70,
   "metadata": {},
   "outputs": [
    {
     "data": {
      "image/png": "[encoded data removed]",
      "text/plain": [
       "<Figure size 432x288 with 2 Axes>"
      ]
     },
     "metadata": {},
     "output_type": "display_data"
    }
   ],
   "source": [
    "def plot_test_results(p_name, test_group_name, control_group_name)\n",
    "\n",
    "# setup\n",
    "fig, host = plt.subplots()\n",
    "par1 = host.twinx()\n",
    "\n",
    "# extract plotting data\n",
    "index = range(0, len(results))\n",
    "ps = [r['p'] for r in results]\n",
    "test_cvr = [r['test_cumulative'] for r in results]\n",
    "cont_cvr = [r['control_cumulative'] for r in results]\n",
    "\n",
    "# labels\n",
    "p_label = \"P test wins\"\n",
    "test_cvr_label = \"Cumulative CVR: Test\"\n",
    "contol_cvr_label = \"Cumulative CVR: Control\"\n",
    "\n",
    "# make plots\n",
    "p1, = host.plot(index, ps, \"b-\", label=p_label)\n",
    "p2, = par1.plot(index, test_cvr, \"g-\", label=test_cvr_label)\n",
    "p3, = par1.plot(index, cont_cvr, \"r-\", label=contol_cvr_label)\n",
    "\n",
    "# set labels\n",
    "tkw = dict(size=4, width=1.5)\n",
    "host.set_ylabel(p_label)\n",
    "host.yaxis.label.set_color(p1.get_color())\n",
    "host.tick_params(axis='y', colors=p1.get_color(), **tkw)\n",
    "par1.set_ylabel(\"Cumulative CVR\")\n",
    "\n",
    "# add legend\n",
    "lines = [p1, p2, p3]\n",
    "host.legend(lines, \n",
    "            [l.get_label() for l in lines], \n",
    "            loc='upper center', \n",
    "            bbox_to_anchor=(0.5, -0.1),\n",
    "            fancybox=True, \n",
    "            shadow=True, \n",
    "            ncol=3)\n",
    "plt.show()"
   ]
  },
  {
   "cell_type": "code",
   "execution_count": null,
   "metadata": {},
   "outputs": [],
   "source": []
  }
 ],
 "metadata": {
  "kernelspec": {
   "display_name": "Python [conda env:bayesian-ab]",
   "language": "python",
   "name": "conda-env-bayesian-ab-py"
  },
  "language_info": {
   "codemirror_mode": {
    "name": "ipython",
    "version": 3
   },
   "file_extension": ".py",
   "mimetype": "text/x-python",
   "name": "python",
   "nbconvert_exporter": "python",
   "pygments_lexer": "ipython3",
   "version": "3.6.5"
  }
 },
 "nbformat": 4,
 "nbformat_minor": 2
}
