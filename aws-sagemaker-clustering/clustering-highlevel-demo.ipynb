{
 "cells": [
  {
   "cell_type": "markdown",
   "metadata": {},
   "source": [
    "# Demo of K-Means Clustering in Sagemaker\n",
    "## Table of Contents\n",
    "\n",
    "1. [Introduction](#Introduction)\n",
    "2. [Set permissions and data location](#Set-permissions-and-data-location)\n",
    "3. [Get the data](#Get-the-data)\n",
    "4. [Inspect data](#Inspect-data)\n",
    "5. [Training](#Training)\n",
    "6. [Deployment](#Deployment)\n",
    "7. [Validation](#Validation)\n",
    "  1. [Test endpoint](#Test-endpoint)\n",
    "  2. [Batch predictions](#Batch-predictions)\n",
    "  3. [Visual evaluation](#Visual-evaluation)\n",
    "  4. [Metrics evaluation](#Metrics-evaluation)\n",
    "7. [Summary](#Summary)\n",
    "8. [Cleanup](#Cleanup)"
   ]
  },
  {
   "cell_type": "markdown",
   "metadata": {},
   "source": [
    "## Introduction\n",
    "\n",
    "In this lab we'll review the K-means clustering algorithm and its implementation in Sagemaker, using the MNIST handwritten digits dataset. MNIST contains handwriting samples for each of the 10 digits 0-9. The dataset provides labels of the true digit represented in each image, but we're going to imagine that we don't have those labels so that we need to figure out what they are. Clustering is a common method for doing this, and this demo illustrates K-means clustering in particular. K-means assigns data points to the cluster with the nearest mean, and the user specifies the number K clusters to form during training. Since we know that there are 10 distinct digits in the data, we'll start by setting k = 10.\n",
    "\n",
    "### Supervised vs. Unsupervised Learning\n",
    "\n",
    "The other two labs in this series - Linear Regression and Classification - are both **supervised learning**. Clustering is an **unsupervised learning** approach, and used when the goal is to understand patterns that *don't necessarily relate to a target variable* for prediction. Instead of predicting things like insurance price, or the probability of survival, the goal here is to understand the distances between data points and how they can be sensibly grouped.\n",
    "\n",
    "### Example use cases\n",
    "\n",
    "* Grouping images (like we do here!)\n",
    "* Identifying geographic segments based on lat / long\n",
    "* Finding marketing segments of customers based on spend, transaction frequency, and demographics\n",
    "* Identifying similar neighborhoods based on income, housing stock, and demographics\n",
    "* Profiling soccer players based on movements, position, and shots-on-goal\n",
    "\n",
    "## TODO: PCA and 2D graph in eval section\n",
    "\n",
    "### K-means algorithm:\n",
    "\n",
    "The images below are a visual representation of the K-means algoritm. Its steps are:\n",
    "\n",
    "1) Randomly choose a user-selected number K of cluster centers  \n",
    "2) Assign each point to the nearest center  \n",
    "3) Recalculate the center point for each of K clusters shown  \n",
    "4) Update cluster assignments for each point  \n",
    "5) Repeat 3-4 until the algorithm converges or user-selected stopping criteria  \n",
    "\n",
    "![alt text](kmeansIterations-1.png \"Title\")\n",
    "\n",
    "Video version: https://www.youtube.com/watch?v=5I3Ei69I40s\n",
    "\n",
    "Source: https://bioinformatics-training.github.io/intro-machine-learning-2017/clustering.html\n",
    "\n",
    "### Other approaches to Clustering\n",
    "\n",
    "K-means isn't the only algorithm used to cluster data points. Some other examples include K-medoids, DBSCAN, Hierarchical Clustering, Self-Organizing Maps, Ensemble Clustering, Fuzzy Clustering, Mean Shift, Gaussian Mixture Models, and others. All these terms are very Google-able :).i"
   ]
  },
  {
   "cell_type": "code",
   "execution_count": 1,
   "metadata": {},
   "outputs": [],
   "source": [
    "from sagemaker import get_execution_role\n",
    "import pickle, gzip, numpy, urllib.request, json\n",
    "import matplotlib.pyplot as plt"
   ]
  },
  {
   "cell_type": "markdown",
   "metadata": {},
   "source": [
    "## Set permissions and data location\n",
    "\n",
    "Sagemaker's access permissions are enabled via IAM. The execution role gives the notebook instance access to run training jobs, store data in S3, etc. We created this role when the Sagemaker notebook was first launched. \n",
    "\n",
    "We also tell Sagemaker where to store artifacts from the model building process in the `bucket` variable"
   ]
  },
  {
   "cell_type": "code",
   "execution_count": 2,
   "metadata": {},
   "outputs": [],
   "source": [
    "role = get_execution_role()\n",
    "bucket = 'mw-simple-data'"
   ]
  },
  {
   "cell_type": "markdown",
   "metadata": {},
   "source": [
    "## Get the data"
   ]
  },
  {
   "cell_type": "code",
   "execution_count": 3,
   "metadata": {},
   "outputs": [
    {
     "name": "stdout",
     "output_type": "stream",
     "text": [
      "CPU times: user 876 ms, sys: 248 ms, total: 1.12 s\n",
      "Wall time: 3.51 s\n"
     ]
    }
   ],
   "source": [
    "%%time\n",
    "# Load the dataset\n",
    "urllib.request.urlretrieve(\"http://deeplearning.net/data/mnist/mnist.pkl.gz\", \"mnist.pkl.gz\")\n",
    "with gzip.open('mnist.pkl.gz', 'rb') as f:\n",
    "    train_set, valid_set, test_set = pickle.load(f, encoding='latin1')"
   ]
  },
  {
   "cell_type": "markdown",
   "metadata": {},
   "source": [
    "## Inspect data\n",
    "\n",
    "The data we pulled above are stored in arrays of numbers. Many machine learning models for image recognititon are based on data in this format. We can look at the raw data and do some formatting on it to present in image form.  "
   ]
  },
  {
   "cell_type": "code",
   "execution_count": 4,
   "metadata": {},
   "outputs": [
    {
     "name": "stdout",
     "output_type": "stream",
     "text": [
      "The vector below represents a 3\n",
      "\n",
      "[0.         0.         0.         0.         0.         0.\n",
      " 0.         0.         0.         0.         0.         0.\n",
      " 0.         0.         0.         0.         0.         0.\n",
      " 0.         0.         0.         0.         0.         0.\n",
      " 0.         0.         0.         0.         0.         0.\n",
      " 0.         0.         0.         0.         0.         0.\n",
      " 0.         0.         0.         0.         0.         0.\n",
      " 0.         0.         0.         0.         0.         0.\n",
      " 0.         0.         0.         0.         0.         0.\n",
      " 0.         0.         0.         0.         0.         0.\n",
      " 0.         0.         0.         0.         0.         0.\n",
      " 0.         0.         0.         0.         0.         0.\n",
      " 0.         0.         0.         0.         0.         0.\n",
      " 0.         0.         0.         0.         0.         0.\n",
      " 0.         0.         0.         0.         0.         0.\n",
      " 0.         0.         0.         0.         0.         0.\n",
      " 0.         0.         0.         0.         0.         0.\n",
      " 0.         0.         0.         0.         0.         0.\n",
      " 0.         0.         0.         0.         0.         0.\n",
      " 0.         0.         0.         0.         0.         0.\n",
      " 0.         0.         0.         0.         0.         0.\n",
      " 0.         0.         0.         0.         0.         0.\n",
      " 0.         0.         0.         0.         0.         0.\n",
      " 0.         0.         0.         0.         0.         0.\n",
      " 0.         0.         0.         0.         0.         0.\n",
      " 0.         0.         0.         0.         0.         0.\n",
      " 0.         0.         0.         0.         0.         0.\n",
      " 0.         0.         0.         0.         0.         0.\n",
      " 0.         0.         0.         0.         0.         0.\n",
      " 0.         0.         0.         0.         0.         0.\n",
      " 0.         0.         0.         0.         0.         0.\n",
      " 0.         0.         0.         0.         0.         0.\n",
      " 0.         0.         0.         0.         0.         0.\n",
      " 0.         0.         0.         0.04296875 0.07421875 0.37109375\n",
      " 0.55859375 0.55859375 0.55859375 0.55859375 0.55859375 0.55859375\n",
      " 0.55859375 0.55859375 0.12890625 0.         0.         0.\n",
      " 0.         0.         0.         0.         0.         0.\n",
      " 0.         0.         0.         0.         0.         0.3515625\n",
      " 0.58203125 0.8125     0.98828125 0.98828125 0.98828125 0.98828125\n",
      " 0.98828125 0.98828125 0.98828125 0.98828125 0.98828125 0.98828125\n",
      " 0.84765625 0.0859375  0.         0.         0.         0.\n",
      " 0.         0.         0.         0.         0.         0.\n",
      " 0.         0.         0.         0.99609375 0.98828125 0.98046875\n",
      " 0.8671875  0.8671875  0.62890625 0.546875   0.38671875 0.38671875\n",
      " 0.38671875 0.38671875 0.55859375 0.98828125 0.98828125 0.44140625\n",
      " 0.         0.         0.         0.         0.         0.\n",
      " 0.         0.         0.         0.         0.         0.\n",
      " 0.         0.84765625 0.8203125  0.3359375  0.         0.\n",
      " 0.         0.         0.         0.         0.         0.11328125\n",
      " 0.62890625 0.98828125 0.98828125 0.3203125  0.         0.\n",
      " 0.         0.         0.         0.         0.         0.\n",
      " 0.         0.         0.         0.         0.         0.\n",
      " 0.         0.         0.         0.         0.         0.\n",
      " 0.         0.         0.12890625 0.79296875 0.98828125 0.98828125\n",
      " 0.6796875  0.05078125 0.         0.         0.         0.\n",
      " 0.         0.         0.         0.         0.         0.\n",
      " 0.         0.         0.         0.         0.         0.\n",
      " 0.         0.         0.         0.         0.0390625  0.3046875\n",
      " 0.90625    0.98828125 0.98828125 0.98828125 0.16796875 0.\n",
      " 0.         0.         0.         0.         0.         0.\n",
      " 0.         0.         0.         0.         0.         0.\n",
      " 0.         0.         0.         0.         0.         0.\n",
      " 0.         0.         0.5390625  0.98828125 0.98828125 0.98828125\n",
      " 0.98828125 0.98828125 0.75       0.703125   0.703125   0.5\n",
      " 0.125      0.         0.         0.         0.         0.\n",
      " 0.         0.         0.         0.         0.         0.\n",
      " 0.         0.         0.         0.         0.         0.\n",
      " 0.6796875  0.98828125 0.98828125 0.98828125 0.98828125 0.98828125\n",
      " 0.98828125 0.98828125 0.98828125 0.98828125 0.66015625 0.01171875\n",
      " 0.         0.         0.         0.         0.         0.\n",
      " 0.         0.         0.         0.         0.         0.\n",
      " 0.         0.         0.         0.         0.1640625  0.23828125\n",
      " 0.23828125 0.23828125 0.23828125 0.32421875 0.6875     0.30859375\n",
      " 0.4296875  0.96484375 0.98828125 0.76171875 0.015625   0.\n",
      " 0.         0.         0.         0.         0.         0.\n",
      " 0.         0.         0.         0.         0.         0.\n",
      " 0.         0.         0.         0.         0.         0.\n",
      " 0.23046875 0.75       0.1171875  0.         0.         0.1953125\n",
      " 0.79296875 0.98828125 0.1640625  0.         0.         0.\n",
      " 0.         0.         0.         0.         0.         0.\n",
      " 0.         0.         0.         0.         0.         0.\n",
      " 0.         0.         0.         0.21875    0.76171875 0.22265625\n",
      " 0.         0.         0.         0.         0.4375     0.98828125\n",
      " 0.89453125 0.         0.         0.         0.         0.\n",
      " 0.         0.         0.         0.         0.         0.\n",
      " 0.         0.         0.         0.         0.         0.\n",
      " 0.         0.671875   0.796875   0.06640625 0.         0.\n",
      " 0.         0.         0.2265625  0.96875    0.98828125 0.\n",
      " 0.         0.         0.         0.         0.         0.\n",
      " 0.         0.         0.         0.         0.         0.\n",
      " 0.         0.         0.         0.         0.         0.75\n",
      " 0.98828125 0.71875    0.2421875  0.         0.         0.33203125\n",
      " 0.640625   0.98828125 0.98828125 0.         0.         0.\n",
      " 0.         0.         0.         0.         0.         0.\n",
      " 0.         0.         0.         0.         0.         0.\n",
      " 0.         0.         0.         0.5625     0.98828125 0.98828125\n",
      " 0.94921875 0.87109375 0.87109375 0.9765625  0.98828125 0.98828125\n",
      " 0.375      0.         0.         0.         0.         0.\n",
      " 0.         0.         0.         0.         0.         0.\n",
      " 0.         0.         0.         0.         0.         0.\n",
      " 0.         0.02734375 0.59375    0.98828125 0.98828125 0.98828125\n",
      " 0.98828125 0.98828125 0.98828125 0.59375    0.01171875 0.\n",
      " 0.         0.         0.         0.         0.         0.\n",
      " 0.         0.         0.         0.         0.         0.\n",
      " 0.         0.         0.         0.         0.         0.\n",
      " 0.0234375  0.0703125  0.4765625  0.55078125 0.55078125 0.55078125\n",
      " 0.33984375 0.00390625 0.         0.         0.         0.\n",
      " 0.         0.         0.         0.         0.         0.\n",
      " 0.         0.         0.         0.         0.         0.\n",
      " 0.         0.         0.         0.         0.         0.\n",
      " 0.         0.         0.         0.         0.         0.\n",
      " 0.         0.         0.         0.         0.         0.\n",
      " 0.         0.         0.         0.         0.         0.\n",
      " 0.         0.         0.         0.         0.         0.\n",
      " 0.         0.         0.         0.         0.         0.\n",
      " 0.         0.         0.         0.         0.         0.\n",
      " 0.         0.         0.         0.         0.         0.\n",
      " 0.         0.         0.         0.         0.         0.\n",
      " 0.         0.         0.         0.         0.         0.\n",
      " 0.         0.         0.         0.         0.         0.\n",
      " 0.         0.         0.         0.         0.         0.\n",
      " 0.         0.         0.         0.         0.         0.\n",
      " 0.         0.         0.         0.         0.         0.\n",
      " 0.         0.         0.         0.         0.         0.\n",
      " 0.         0.         0.         0.         0.         0.\n",
      " 0.         0.         0.         0.         0.         0.\n",
      " 0.         0.         0.         0.         0.         0.\n",
      " 0.         0.         0.         0.         0.         0.\n",
      " 0.         0.         0.         0.         0.         0.\n",
      " 0.         0.         0.         0.         0.         0.\n",
      " 0.         0.         0.         0.        ]\n"
     ]
    }
   ],
   "source": [
    "# this is an array of color intensities for the 30th handwritten digit in the training set:\n",
    "print('The vector below represents a {}\\n'.format(train_set[1][30]))\n",
    "print(train_set[0][30])"
   ]
  },
  {
   "cell_type": "markdown",
   "metadata": {},
   "source": [
    "#### Show the same data as an image:"
   ]
  },
  {
   "cell_type": "code",
   "execution_count": 5,
   "metadata": {},
   "outputs": [
    {
     "data": {
      "image/png": "[encoded data removed]",
      "text/plain": [
       "<Figure size 144x720 with 1 Axes>"
      ]
     },
     "metadata": {},
     "output_type": "display_data"
    }
   ],
   "source": [
    "%matplotlib inline\n",
    "plt.rcParams[\"figure.figsize\"] = (2,10)\n",
    "\n",
    "def show_digit(img, caption='', subplot=None):\n",
    "    if subplot == None:\n",
    "        _, (subplot) = plt.subplots(1,1)\n",
    "    imgr = img.reshape((28,28))\n",
    "    subplot.axis('off')\n",
    "    subplot.imshow(imgr, cmap='gray')\n",
    "    plt.title(caption)\n",
    "\n",
    "show_digit(train_set[0][30], 'This is a {}'.format(train_set[1][30]))"
   ]
  },
  {
   "cell_type": "markdown",
   "metadata": {},
   "source": [
    "## Training\n",
    "\n",
    "This is a relatively small dataset, but Sagemaker can scale to handle Terrabytes of data in training batches. Below we set the training parameters and resource configuration, launch a job, and check its status.\n",
    "\n",
    "### Note on use of Sagemaker\n",
    "\n",
    "The example below is a \"high-level\" implementation of Sagemaker's functionality. AWS also offers a more granular approach to training models which allows the user to customize training images, execution plans, etc. We'll show the more granular approach in the Classification lab."
   ]
  },
  {
   "cell_type": "code",
   "execution_count": 6,
   "metadata": {},
   "outputs": [
    {
     "name": "stdout",
     "output_type": "stream",
     "text": [
      "training data will be uploaded to: s3://mw-simple-data/kmeans_highlevel_example/data\n",
      "training artifacts will be uploaded to: s3://mw-simple-data/kmeans_example/output\n"
     ]
    }
   ],
   "source": [
    "from sagemaker import KMeans\n",
    "\n",
    "data_location = 's3://{}/kmeans_highlevel_example/data'.format(bucket)\n",
    "output_location = 's3://{}/kmeans_example/output'.format(bucket)\n",
    "\n",
    "print('training data will be uploaded to: {}'.format(data_location))\n",
    "print('training artifacts will be uploaded to: {}'.format(output_location))\n",
    "\n",
    "# set training parameters:\n",
    "kmeans = KMeans(role=role,\n",
    "                train_instance_count=2,\n",
    "                train_instance_type='ml.c4.8xlarge',\n",
    "                output_path=output_location,\n",
    "                k=10,\n",
    "                data_location=data_location)"
   ]
  },
  {
   "cell_type": "code",
   "execution_count": 8,
   "metadata": {},
   "outputs": [
    {
     "name": "stderr",
     "output_type": "stream",
     "text": [
      "INFO:sagemaker:Creating training-job with name: kmeans-2018-08-20-21-35-23-448\n"
     ]
    },
    {
     "name": "stdout",
     "output_type": "stream",
     "text": [
      "....................\n",
      "\u001b[31mDocker entrypoint called with argument(s): train\u001b[0m\n",
      "\u001b[31m[08/20/2018 21:38:40 INFO 140251329341248] Reading default configuration from /opt/amazon/lib/python2.7/site-packages/algorithm/default-input.json: {u'_tuning_objective_metric': u'', u'_num_gpus': u'auto', u'local_lloyd_num_trials': u'auto', u'_log_level': u'info', u'_kvstore': u'auto', u'local_lloyd_init_method': u'kmeans++', u'force_dense': u'true', u'epochs': u'1', u'init_method': u'random', u'local_lloyd_tol': u'0.0001', u'local_lloyd_max_iter': u'300', u'_disable_wait_to_read': u'false', u'extra_center_factor': u'auto', u'eval_metrics': u'[\"msd\"]', u'_num_kv_servers': u'1', u'mini_batch_size': u'5000', u'half_life_time_size': u'0', u'_num_slices': u'1'}\u001b[0m\n",
      "\u001b[31m[08/20/2018 21:38:40 INFO 140251329341248] Reading provided configuration from /opt/ml/input/config/hyperparameters.json: {u'feature_dim': u'784', u'k': u'10', u'force_dense': u'True'}\u001b[0m\n",
      "\u001b[31m[08/20/2018 21:38:40 INFO 140251329341248] Final configuration: {u'k': u'10', u'_tuning_objective_metric': u'', u'_num_gpus': u'auto', u'local_lloyd_num_trials': u'auto', u'_log_level': u'info', u'_kvstore': u'auto', u'local_lloyd_init_method': u'kmeans++', u'force_dense': u'True', u'epochs': u'1', u'init_method': u'random', u'feature_dim': u'784', u'local_lloyd_tol': u'0.0001', u'local_lloyd_max_iter': u'300', u'_disable_wait_to_read': u'false', u'extra_center_factor': u'auto', u'eval_metrics': u'[\"msd\"]', u'_num_kv_servers': u'1', u'mini_batch_size': u'5000', u'half_life_time_size': u'0', u'_num_slices': u'1'}\u001b[0m\n",
      "\u001b[31m[08/20/2018 21:38:40 WARNING 140251329341248] Loggers have already been setup.\u001b[0m\n",
      "\u001b[31m[08/20/2018 21:38:40 INFO 140251329341248] Launching parameter server for role scheduler\u001b[0m\n",
      "\u001b[31m[08/20/2018 21:38:40 INFO 140251329341248] {'PROTOCOL_BUFFERS_PYTHON_IMPLEMENTATION_VERSION': '2', 'PATH': '/opt/amazon/bin:/usr/local/nvidia/bin:/usr/local/sbin:/usr/local/bin:/usr/sbin:/usr/bin:/sbin:/bin:/opt/amazon/bin:/opt/amazon/bin', 'SAGEMAKER_HTTP_PORT': '8080', 'HOME': '/root', 'PYTHONUNBUFFERED': 'TRUE', 'CANONICAL_ENVROOT': '/opt/amazon', 'LD_LIBRARY_PATH': '/usr/local/nvidia/lib64:/opt/amazon/lib', 'MXNET_KVSTORE_BIGARRAY_BOUND': '400000000', 'LANG': 'en_US.utf8', 'DMLC_INTERFACE': 'ethwe', 'SHLVL': '1', 'AWS_REGION': 'us-east-1', 'NVIDIA_VISIBLE_DEVICES': 'all', 'TRAINING_JOB_NAME': 'kmeans-2018-08-20-21-35-23-448', 'PROTOCOL_BUFFERS_PYTHON_IMPLEMENTATION': 'cpp', 'ENVROOT': '/opt/amazon', 'SAGEMAKER_DATA_PATH': '/opt/ml', 'NVIDIA_DRIVER_CAPABILITIES': 'compute,utility', 'NVIDIA_REQUIRE_CUDA': 'cuda>=9.0', 'OMP_NUM_THREADS': '18', 'HOSTNAME': 'aws', 'AWS_CONTAINER_CREDENTIALS_RELATIVE_URI': '/v2/credentials/f51e3cc3-e7d6-4344-9615-99dc5e4118ac', 'PWD': '/'}\u001b[0m\n",
      "\u001b[31m[08/20/2018 21:38:40 INFO 140251329341248] envs={'PROTOCOL_BUFFERS_PYTHON_IMPLEMENTATION_VERSION': '2', 'DMLC_NUM_WORKER': '2', 'DMLC_PS_ROOT_PORT': '9000', 'PATH': '/opt/amazon/bin:/usr/local/nvidia/bin:/usr/local/sbin:/usr/local/bin:/usr/sbin:/usr/bin:/sbin:/bin:/opt/amazon/bin:/opt/amazon/bin', 'SAGEMAKER_HTTP_PORT': '8080', 'HOME': '/root', 'PYTHONUNBUFFERED': 'TRUE', 'CANONICAL_ENVROOT': '/opt/amazon', 'LD_LIBRARY_PATH': '/usr/local/nvidia/lib64:/opt/amazon/lib', 'MXNET_KVSTORE_BIGARRAY_BOUND': '400000000', 'LANG': 'en_US.utf8', 'DMLC_INTERFACE': 'ethwe', 'SHLVL': '1', 'DMLC_PS_ROOT_URI': '10.40.0.3', 'AWS_REGION': 'us-east-1', 'NVIDIA_VISIBLE_DEVICES': 'all', 'TRAINING_JOB_NAME': 'kmeans-2018-08-20-21-35-23-448', 'PROTOCOL_BUFFERS_PYTHON_IMPLEMENTATION': 'cpp', 'ENVROOT': '/opt/amazon', 'SAGEMAKER_DATA_PATH': '/opt/ml', 'NVIDIA_DRIVER_CAPABILITIES': 'compute,utility', 'NVIDIA_REQUIRE_CUDA': 'cuda>=9.0', 'OMP_NUM_THREADS': '18', 'HOSTNAME': 'aws', 'AWS_CONTAINER_CREDENTIALS_RELATIVE_URI': '/v2/credentials/f51e3cc3-e7d6-4344-9615-99dc5e4118ac', 'DMLC_ROLE': 'scheduler', 'PWD': '/', 'DMLC_NUM_SERVER': '1'}\u001b[0m\n",
      "\u001b[31m[08/20/2018 21:38:40 INFO 140251329341248] Launching parameter server for role server\u001b[0m\n",
      "\u001b[31m[08/20/2018 21:38:40 INFO 140251329341248] {'PROTOCOL_BUFFERS_PYTHON_IMPLEMENTATION_VERSION': '2', 'PATH': '/opt/amazon/bin:/usr/local/nvidia/bin:/usr/local/sbin:/usr/local/bin:/usr/sbin:/usr/bin:/sbin:/bin:/opt/amazon/bin:/opt/amazon/bin', 'SAGEMAKER_HTTP_PORT': '8080', 'HOME': '/root', 'PYTHONUNBUFFERED': 'TRUE', 'CANONICAL_ENVROOT': '/opt/amazon', 'LD_LIBRARY_PATH': '/usr/local/nvidia/lib64:/opt/amazon/lib', 'MXNET_KVSTORE_BIGARRAY_BOUND': '400000000', 'LANG': 'en_US.utf8', 'DMLC_INTERFACE': 'ethwe', 'SHLVL': '1', 'AWS_REGION': 'us-east-1', 'NVIDIA_VISIBLE_DEVICES': 'all', 'TRAINING_JOB_NAME': 'kmeans-2018-08-20-21-35-23-448', 'PROTOCOL_BUFFERS_PYTHON_IMPLEMENTATION': 'cpp', 'ENVROOT': '/opt/amazon', 'SAGEMAKER_DATA_PATH': '/opt/ml', 'NVIDIA_DRIVER_CAPABILITIES': 'compute,utility', 'NVIDIA_REQUIRE_CUDA': 'cuda>=9.0', 'OMP_NUM_THREADS': '18', 'HOSTNAME': 'aws', 'AWS_CONTAINER_CREDENTIALS_RELATIVE_URI': '/v2/credentials/f51e3cc3-e7d6-4344-9615-99dc5e4118ac', 'PWD': '/'}\u001b[0m\n",
      "\u001b[31m[08/20/2018 21:38:40 INFO 140251329341248] envs={'PROTOCOL_BUFFERS_PYTHON_IMPLEMENTATION_VERSION': '2', 'DMLC_NUM_WORKER': '2', 'DMLC_PS_ROOT_PORT': '9000', 'PATH': '/opt/amazon/bin:/usr/local/nvidia/bin:/usr/local/sbin:/usr/local/bin:/usr/sbin:/usr/bin:/sbin:/bin:/opt/amazon/bin:/opt/amazon/bin', 'SAGEMAKER_HTTP_PORT': '8080', 'HOME': '/root', 'PYTHONUNBUFFERED': 'TRUE', 'CANONICAL_ENVROOT': '/opt/amazon', 'LD_LIBRARY_PATH': '/usr/local/nvidia/lib64:/opt/amazon/lib', 'MXNET_KVSTORE_BIGARRAY_BOUND': '400000000', 'LANG': 'en_US.utf8', 'DMLC_INTERFACE': 'ethwe', 'SHLVL': '1', 'DMLC_PS_ROOT_URI': '10.40.0.3', 'AWS_REGION': 'us-east-1', 'NVIDIA_VISIBLE_DEVICES': 'all', 'TRAINING_JOB_NAME': 'kmeans-2018-08-20-21-35-23-448', 'PROTOCOL_BUFFERS_PYTHON_IMPLEMENTATION': 'cpp', 'ENVROOT': '/opt/amazon', 'SAGEMAKER_DATA_PATH': '/opt/ml', 'NVIDIA_DRIVER_CAPABILITIES': 'compute,utility', 'NVIDIA_REQUIRE_CUDA': 'cuda>=9.0', 'OMP_NUM_THREADS': '18', 'HOSTNAME': 'aws', 'AWS_CONTAINER_CREDENTIALS_RELATIVE_URI': '/v2/credentials/f51e3cc3-e7d6-4344-9615-99dc5e4118ac', 'DMLC_ROLE': 'server', 'PWD': '/', 'DMLC_NUM_SERVER': '1'}\u001b[0m\n",
      "\u001b[31m[08/20/2018 21:38:40 INFO 140251329341248] Environment: {'PROTOCOL_BUFFERS_PYTHON_IMPLEMENTATION_VERSION': '2', 'DMLC_PS_ROOT_PORT': '9000', 'DMLC_NUM_WORKER': '2', 'SAGEMAKER_HTTP_PORT': '8080', 'HOME': '/root', 'PYTHONUNBUFFERED': 'TRUE', 'CANONICAL_ENVROOT': '/opt/amazon', 'LD_LIBRARY_PATH': '/usr/local/nvidia/lib64:/opt/amazon/lib', 'MXNET_KVSTORE_BIGARRAY_BOUND': '400000000', 'LANG': 'en_US.utf8', 'DMLC_INTERFACE': 'ethwe', 'SHLVL': '1', 'DMLC_PS_ROOT_URI': '10.40.0.3', 'AWS_REGION': 'us-east-1', 'NVIDIA_VISIBLE_DEVICES': 'all', 'TRAINING_JOB_NAME': 'kmeans-2018-08-20-21-35-23-448', 'PATH': '/opt/amazon/bin:/usr/local/nvidia/bin:/usr/local/sbin:/usr/local/bin:/usr/sbin:/usr/bin:/sbin:/bin:/opt/amazon/bin:/opt/amazon/bin', 'PROTOCOL_BUFFERS_PYTHON_IMPLEMENTATION': 'cpp', 'ENVROOT': '/opt/amazon', 'SAGEMAKER_DATA_PATH': '/opt/ml', 'NVIDIA_DRIVER_CAPABILITIES': 'compute,utility', 'NVIDIA_REQUIRE_CUDA': 'cuda>=9.0', 'OMP_NUM_THREADS': '18', 'HOSTNAME': 'aws', 'AWS_CONTAINER_CREDENTIALS_RELATIVE_URI': '/v2/credentials/f51e3cc3-e7d6-4344-9615-99dc5e4118ac', 'DMLC_ROLE': 'worker', 'PWD': '/', 'DMLC_NUM_SERVER': '1'}\u001b[0m\n",
      "\u001b[31m[08/20/2018 21:38:40 INFO 140251329341248] Using default worker.\u001b[0m\n",
      "\u001b[31m[08/20/2018 21:38:40 INFO 140251329341248] Loaded iterator creator application/x-recordio-protobuf for content type ('application/x-recordio-protobuf', '1.0')\u001b[0m\n",
      "\u001b[31m[08/20/2018 21:38:40 INFO 140251329341248] Create Store: dist_async\u001b[0m\n",
      "\u001b[31m[08/20/2018 21:38:47 INFO 140251329341248] nvidia-smi took: 0.0252768993378 secs to identify 0 gpus\u001b[0m\n",
      "\u001b[31m[08/20/2018 21:38:47 INFO 140251329341248] Number of GPUs being used: 0\u001b[0m\n",
      "\u001b[31m[08/20/2018 21:38:47 INFO 140251329341248] Setting up with params: {u'k': u'10', u'_tuning_objective_metric': u'', u'_num_gpus': u'auto', u'local_lloyd_num_trials': u'auto', u'_log_level': u'info', u'_kvstore': u'auto', u'local_lloyd_init_method': u'kmeans++', u'force_dense': u'True', u'epochs': u'1', u'init_method': u'random', u'feature_dim': u'784', u'local_lloyd_tol': u'0.0001', u'local_lloyd_max_iter': u'300', u'_disable_wait_to_read': u'false', u'extra_center_factor': u'auto', u'eval_metrics': u'[\"msd\"]', u'_num_kv_servers': u'1', u'mini_batch_size': u'5000', u'half_life_time_size': u'0', u'_num_slices': u'1'}\u001b[0m\n",
      "\u001b[31m[08/20/2018 21:38:47 INFO 140251329341248] Number of GPUs being used: 0\u001b[0m\n",
      "\u001b[31m/opt/amazon/lib/python2.7/site-packages/ai_algorithms_sdk/config/config_helper.py:172: DeprecationWarning: deprecated\n",
      "  warnings.warn(\"deprecated\", DeprecationWarning)\u001b[0m\n",
      "\u001b[31m/opt/amazon/lib/python2.7/site-packages/ai_algorithms_sdk/config/config_helper.py:122: DeprecationWarning: deprecated\n",
      "  warnings.warn(\"deprecated\", DeprecationWarning)\u001b[0m\n",
      "\u001b[31m[08/20/2018 21:38:47 INFO 140251329341248] number of center slices 1\u001b[0m\n",
      "\u001b[31m#metrics {\"Metrics\": {\"Max Batches Seen Between Resets\": {\"count\": 1, \"max\": 1, \"sum\": 1.0, \"min\": 1}, \"Number of Batches Since Last Reset\": {\"count\": 1, \"max\": 1, \"sum\": 1.0, \"min\": 1}, \"Number of Records Since Last Reset\": {\"count\": 1, \"max\": 5000, \"sum\": 5000.0, \"min\": 5000}, \"Total Batches Seen\": {\"count\": 1, \"max\": 1, \"sum\": 1.0, \"min\": 1}, \"Total Records Seen\": {\"count\": 1, \"max\": 5000, \"sum\": 5000.0, \"min\": 5000}, \"Max Records Seen Between Resets\": {\"count\": 1, \"max\": 5000, \"sum\": 5000.0, \"min\": 5000}, \"Reset Count\": {\"count\": 1, \"max\": 0, \"sum\": 0.0, \"min\": 0}}, \"EndTime\": 1534801127.904853, \"Dimensions\": {\"Host\": \"algo-1\", \"Meta\": \"init_train_data_iter\", \"Operation\": \"training\", \"Algorithm\": \"AWS/KMeansWebscale\"}, \"StartTime\": 1534801127.904823}\n",
      "\u001b[0m\n",
      "\u001b[31m[08/20/2018 21:38:48 INFO 140251329341248] processed a total of 25000 examples\u001b[0m\n",
      "\u001b[31m[08/20/2018 21:38:48 INFO 140251329341248] #progress_metric: host=algo-1, completed 100 % of epochs\u001b[0m\n",
      "\u001b[31m#metrics {\"Metrics\": {\"Max Batches Seen Between Resets\": {\"count\": 1, \"max\": 5, \"sum\": 5.0, \"min\": 5}, \"Number of Batches Since Last Reset\": {\"count\": 1, \"max\": 5, \"sum\": 5.0, \"min\": 5}, \"Number of Records Since Last Reset\": {\"count\": 1, \"max\": 25000, \"sum\": 25000.0, \"min\": 25000}, \"Total Batches Seen\": {\"count\": 1, \"max\": 6, \"sum\": 6.0, \"min\": 6}, \"Total Records Seen\": {\"count\": 1, \"max\": 30000, \"sum\": 30000.0, \"min\": 30000}, \"Max Records Seen Between Resets\": {\"count\": 1, \"max\": 25000, \"sum\": 25000.0, \"min\": 25000}, \"Reset Count\": {\"count\": 1, \"max\": 1, \"sum\": 1.0, \"min\": 1}}, \"EndTime\": 1534801128.246052, \"Dimensions\": {\"Host\": \"algo-1\", \"Meta\": \"training_data_iter\", \"Operation\": \"training\", \"Algorithm\": \"AWS/KMeansWebscale\", \"epoch\": 0}, \"StartTime\": 1534801127.9051}\n",
      "\u001b[0m\n",
      "\u001b[31m[08/20/2018 21:38:48 INFO 140251329341248] #throughput_metric: host=algo-1, train throughput=73223.8139964 records/second\u001b[0m\n",
      "\u001b[31m[08/20/2018 21:38:48 INFO 140251329341248] shrinking 100 centers into 10\u001b[0m\n",
      "\u001b[31m[08/20/2018 21:38:48 INFO 140251329341248] local kmeans attempt #0. Current mean square distance 10.563744\u001b[0m\n",
      "\u001b[31m[08/20/2018 21:38:48 INFO 140251329341248] local kmeans attempt #1. Current mean square distance 10.531412\u001b[0m\n",
      "\u001b[31m[08/20/2018 21:38:48 INFO 140251329341248] local kmeans attempt #2. Current mean square distance 10.374025\u001b[0m\n",
      "\u001b[31m[08/20/2018 21:38:48 INFO 140251329341248] local kmeans attempt #3. Current mean square distance 10.492874\u001b[0m\n",
      "\u001b[31m[08/20/2018 21:38:48 INFO 140251329341248] local kmeans attempt #4. Current mean square distance 10.201923\u001b[0m\n",
      "\u001b[31m[08/20/2018 21:38:48 INFO 140251329341248] local kmeans attempt #5. Current mean square distance 10.257529\u001b[0m\n",
      "\u001b[31m[08/20/2018 21:38:48 INFO 140251329341248] local kmeans attempt #6. Current mean square distance 10.490862\u001b[0m\n",
      "\u001b[31m[08/20/2018 21:38:48 INFO 140251329341248] local kmeans attempt #7. Current mean square distance 10.198564\u001b[0m\n",
      "\u001b[31m[08/20/2018 21:38:48 INFO 140251329341248] local kmeans attempt #8. Current mean square distance 10.486578\u001b[0m\n",
      "\u001b[31m[08/20/2018 21:38:48 INFO 140251329341248] local kmeans attempt #9. Current mean square distance 10.614724\u001b[0m\n",
      "\u001b[31m[08/20/2018 21:38:48 INFO 140251329341248] finished shrinking process. Mean Square Distance = 10\u001b[0m\n",
      "\u001b[31m[08/20/2018 21:38:48 INFO 140251329341248] #quality_metric: host=algo-1, train msd <loss>=10.1985635757\u001b[0m\n",
      "\u001b[31m[08/20/2018 21:38:48 INFO 140251329341248] batch data loading with context took: 57.2829%, (0.195345 secs)\u001b[0m\n",
      "\u001b[31m[08/20/2018 21:38:48 INFO 140251329341248] compute all data-center distances: inner product took: 13.0237%, (0.044413 secs)\u001b[0m\n",
      "\u001b[31m[08/20/2018 21:38:48 INFO 140251329341248] compute all data-center distances: point norm took: 10.7314%, (0.036596 secs)\u001b[0m\n",
      "\u001b[31m[08/20/2018 21:38:48 INFO 140251329341248] predict compute msd took: 7.9427%, (0.027086 secs)\u001b[0m\n",
      "\u001b[31m[08/20/2018 21:38:48 INFO 140251329341248] gradient: cluster center took: 4.8257%, (0.016456 secs)\u001b[0m\n",
      "\u001b[31m[08/20/2018 21:38:48 INFO 140251329341248] collect from kv store took: 2.1605%, (0.007368 secs)\u001b[0m\n",
      "\u001b[31m[08/20/2018 21:38:48 INFO 140251329341248] splitting centers key-value pair took: 1.1237%, (0.003832 secs)\u001b[0m\n",
      "\u001b[31m[08/20/2018 21:38:48 INFO 140251329341248] gradient: cluster size  took: 1.0692%, (0.003646 secs)\u001b[0m\n",
      "\u001b[31m[08/20/2018 21:38:48 INFO 140251329341248] gradient: one_hot took: 0.9566%, (0.003262 secs)\u001b[0m\n",
      "\u001b[31m[08/20/2018 21:38:48 INFO 140251329341248] update state and report convergance took: 0.4102%, (0.001399 secs)\u001b[0m\n",
      "\u001b[31m[08/20/2018 21:38:48 INFO 140251329341248] compute all data-center distances: center norm took: 0.3610%, (0.001231 secs)\u001b[0m\n",
      "\u001b[31m[08/20/2018 21:38:48 INFO 140251329341248] update set-up time took: 0.0759%, (0.000259 secs)\u001b[0m\n",
      "\u001b[31m[08/20/2018 21:38:48 INFO 140251329341248] predict minus dist took: 0.0364%, (0.000124 secs)\u001b[0m\n",
      "\u001b[31m[08/20/2018 21:38:48 INFO 140251329341248] TOTAL took: 0.341018438339\u001b[0m\n",
      "\u001b[31m[08/20/2018 21:38:48 INFO 140251329341248] Number of GPUs being used: 0\u001b[0m\n",
      "\u001b[31m#metrics {\"Metrics\": {\"finalize.time\": {\"count\": 1, \"max\": 362.11490631103516, \"sum\": 362.11490631103516, \"min\": 362.11490631103516}, \"initialize.time\": {\"count\": 1, \"max\": 14.483928680419922, \"sum\": 14.483928680419922, \"min\": 14.483928680419922}, \"model.serialize.time\": {\"count\": 1, \"max\": 0.23293495178222656, \"sum\": 0.23293495178222656, \"min\": 0.23293495178222656}, \"update.time\": {\"count\": 1, \"max\": 340.6710624694824, \"sum\": 340.6710624694824, \"min\": 340.6710624694824}, \"epochs\": {\"count\": 1, \"max\": 1, \"sum\": 1.0, \"min\": 1}, \"state.serialize.time\": {\"count\": 1, \"max\": 0.6399154663085938, \"sum\": 0.6399154663085938, \"min\": 0.6399154663085938}, \"_shrink.time\": {\"count\": 1, \"max\": 359.60984230041504, \"sum\": 359.60984230041504, \"min\": 359.60984230041504}}, \"EndTime\": 1534801128.677492, \"Dimensions\": {\"Host\": \"algo-1\", \"Operation\": \"training\", \"Algorithm\": \"AWS/KMeansWebscale\"}, \"StartTime\": 1534801127.848302}\n",
      "\u001b[0m\n",
      "\u001b[31m[08/20/2018 21:38:48 INFO 140251329341248] Test data is not provided.\u001b[0m\n",
      "\u001b[31m#metrics {\"Metrics\": {\"totaltime\": {\"count\": 1, \"max\": 8495.022058486938, \"sum\": 8495.022058486938, \"min\": 8495.022058486938}, \"setuptime\": {\"count\": 1, \"max\": 25.902986526489258, \"sum\": 25.902986526489258, \"min\": 25.902986526489258}}, \"EndTime\": 1534801128.680848, \"Dimensions\": {\"Host\": \"algo-1\", \"Operation\": \"training\", \"Algorithm\": \"AWS/KMeansWebscale\"}, \"StartTime\": 1534801128.677606}\n",
      "\u001b[0m\n"
     ]
    },
    {
     "name": "stdout",
     "output_type": "stream",
     "text": [
      "\n",
      "Billable seconds: 209\n",
      "CPU times: user 11.1 s, sys: 1.18 s, total: 12.3 s\n",
      "Wall time: 4min 26s\n"
     ]
    }
   ],
   "source": [
    "%%time\n",
    "# normalize data:\n",
    "from sklearn.preprocessing import StandardScaler\n",
    "from sklearn.decomposition import PCA\n",
    "\n",
    "scl = StandardScaler()\n",
    "scl.fit(train_set[0])\n",
    "X_std = scl.transform(train_set[0])\n",
    "\n",
    "pca = PCA(n_components=16, svd_solver='randomized', whiten=True)\n",
    "pca.fit(X_std)\n",
    "X_pca = pca.transform(X_std)\n",
    "#print(pca.explained_variance_ratio_)\n",
    "\n",
    "kmeans.fit(kmeans.record_set(train_set[0]))\n",
    "#kmeans.fit(kmeans.record_set(X_train))\n",
    "\n",
    "#inspect.getfullargspec(KMeans)[0]\n",
    "#dir(KMeans)"
   ]
  },
  {
   "cell_type": "code",
   "execution_count": 10,
   "metadata": {},
   "outputs": [],
   "source": [
    "# # Transform principal components to images:\n",
    "# eigen_16 = pca.components_.reshape(16, 28, 28)\n",
    "\n",
    "# # Plot the first 40 eignenvalues\n",
    "# plt.figure(figsize=(15,15))\n",
    "# for i in list(range(16)):\n",
    "#     plt.subplot(9, 10, i + 1)\n",
    "#     plt.imshow(eigen_16[i], interpolation = \"bicubic\", cmap = \"afmhot\")\n",
    "#     title_text = 'Eigenvalue ' + str(i + 1)\n",
    "#     plt.title(title_text, size=12)\n",
    "#     plt.xticks(())\n",
    "#     plt.yticks(())\n",
    "\n",
    "# plt.tight_layout()"
   ]
  },
  {
   "cell_type": "markdown",
   "metadata": {},
   "source": [
    "## Deployment\n",
    "\n",
    "Sagemaker includes some awesome functionality to deploy models to HTTPS endpoings via its managed service. This is incredibly simple compared to coding and deploying an API from scratch."
   ]
  },
  {
   "cell_type": "code",
   "execution_count": 9,
   "metadata": {},
   "outputs": [
    {
     "name": "stderr",
     "output_type": "stream",
     "text": [
      "INFO:sagemaker:Creating model with name: kmeans-2018-08-20-21-41-38-608\n",
      "INFO:sagemaker:Creating endpoint with name kmeans-2018-08-20-21-35-23-448\n"
     ]
    },
    {
     "name": "stdout",
     "output_type": "stream",
     "text": [
      "---------------------------------------------------------------!CPU times: user 308 ms, sys: 16 ms, total: 324 ms\n",
      "Wall time: 5min 19s\n"
     ]
    }
   ],
   "source": [
    "%%time\n",
    "\n",
    "kmeans_predictor = kmeans.deploy(initial_instance_count=1,\n",
    "                                 instance_type='ml.m4.xlarge')"
   ]
  },
  {
   "cell_type": "markdown",
   "metadata": {},
   "source": [
    "## Validation\n",
    "\n",
    "Now, we can use the endpoint that we just created to find the closest cluster label for any array in the same format as what was fed to the training model! So, we can get a sense for how well the clustering algorithm we built is doing."
   ]
  },
  {
   "cell_type": "markdown",
   "metadata": {},
   "source": [
    "### Test endpoint\n",
    "\n",
    "First query the new endpoint to make sure it's listening and responding to incoming data."
   ]
  },
  {
   "cell_type": "code",
   "execution_count": 14,
   "metadata": {},
   "outputs": [
    {
     "name": "stdout",
     "output_type": "stream",
     "text": [
      "label {\n",
      "  key: \"closest_cluster\"\n",
      "  value {\n",
      "    float32_tensor {\n",
      "      values: 1.0\n",
      "    }\n",
      "  }\n",
      "}\n",
      "label {\n",
      "  key: \"distance_to_cluster\"\n",
      "  value {\n",
      "    float32_tensor {\n",
      "      values: 7.35105037689209\n",
      "    }\n",
      "  }\n",
      "}\n",
      "\n"
     ]
    }
   ],
   "source": [
    "#result = kmeans_predictor.predict(train_set[0][30:31])\n",
    "result = kmeans_predictor.predict(train_set[0][30:31])\n",
    "print(result[0])"
   ]
  },
  {
   "cell_type": "markdown",
   "metadata": {},
   "source": [
    "### Batch predictions"
   ]
  },
  {
   "cell_type": "code",
   "execution_count": 18,
   "metadata": {},
   "outputs": [],
   "source": [
    "#%%time \n",
    "\n",
    "valid_data = train_set[0][0:100]\n",
    "\n",
    "#valid_data = pca.transform(valid_set[0][0:100])\n",
    "result = kmeans_predictor.predict(valid_data)\n",
    "clusters = [r.label['closest_cluster'].float32_tensor.values[0] for r in result]\n",
    "#valid_data.shape"
   ]
  },
  {
   "cell_type": "markdown",
   "metadata": {},
   "source": [
    "### Visual evaluation\n",
    "\n",
    "Note that clustering doesn't care about the meaning of the objects it puts into groups. For this data, it means that we'll get the number of clusters we chose earlier (10), but that the actual labels assigned won't necessarily correspond to the values in the data. So, cluster 0 may or may not contain images from 0's that people wrote.\n",
    "\n",
    "To evaluate, we're looking for clusters that are consistent internally and distinct from the rest of the data."
   ]
  },
  {
   "cell_type": "code",
   "execution_count": 19,
   "metadata": {
    "scrolled": true
   },
   "outputs": [
    {
     "name": "stdout",
     "output_type": "stream",
     "text": [
      "\n",
      "\n",
      "\n",
      "Cluster a:\n"
     ]
    },
    {
     "data": {
      "image/png": "[encoded data removed]",
      "text/plain": [
       "<Figure size 360x288 with 20 Axes>"
      ]
     },
     "metadata": {},
     "output_type": "display_data"
    },
    {
     "name": "stdout",
     "output_type": "stream",
     "text": [
      "\n",
      "\n",
      "\n",
      "Cluster b:\n"
     ]
    },
    {
     "data": {
      "image/png": "[encoded data removed]",
      "text/plain": [
       "<Figure size 360x216 with 15 Axes>"
      ]
     },
     "metadata": {},
     "output_type": "display_data"
    },
    {
     "name": "stdout",
     "output_type": "stream",
     "text": [
      "\n",
      "\n",
      "\n",
      "Cluster c:\n"
     ]
    },
    {
     "data": {
      "image/png": "[encoded data removed]",
      "text/plain": [
       "<Figure size 360x216 with 15 Axes>"
      ]
     },
     "metadata": {},
     "output_type": "display_data"
    },
    {
     "name": "stdout",
     "output_type": "stream",
     "text": [
      "\n",
      "\n",
      "\n",
      "Cluster d:\n"
     ]
    },
    {
     "data": {
      "image/png": "[encoded data removed]",
      "text/plain": [
       "<Figure size 360x144 with 10 Axes>"
      ]
     },
     "metadata": {},
     "output_type": "display_data"
    },
    {
     "name": "stdout",
     "output_type": "stream",
     "text": [
      "\n",
      "\n",
      "\n",
      "Cluster e:\n"
     ]
    },
    {
     "data": {
      "image/png": "[encoded data removed]",
      "text/plain": [
       "<Figure size 360x144 with 10 Axes>"
      ]
     },
     "metadata": {},
     "output_type": "display_data"
    },
    {
     "name": "stdout",
     "output_type": "stream",
     "text": [
      "\n",
      "\n",
      "\n",
      "Cluster f:\n"
     ]
    },
    {
     "data": {
      "image/png": "[encoded data removed]",
      "text/plain": [
       "<Figure size 360x144 with 10 Axes>"
      ]
     },
     "metadata": {},
     "output_type": "display_data"
    },
    {
     "name": "stdout",
     "output_type": "stream",
     "text": [
      "\n",
      "\n",
      "\n",
      "Cluster g:\n"
     ]
    },
    {
     "data": {
      "image/png": "[encoded data removed]",
      "text/plain": [
       "<Figure size 360x144 with 10 Axes>"
      ]
     },
     "metadata": {},
     "output_type": "display_data"
    },
    {
     "name": "stdout",
     "output_type": "stream",
     "text": [
      "\n",
      "\n",
      "\n",
      "Cluster h:\n"
     ]
    },
    {
     "data": {
      "image/png": "[encoded data removed]",
      "text/plain": [
       "<Figure size 360x72 with 5 Axes>"
      ]
     },
     "metadata": {},
     "output_type": "display_data"
    },
    {
     "name": "stdout",
     "output_type": "stream",
     "text": [
      "\n",
      "\n",
      "\n",
      "Cluster i:\n"
     ]
    },
    {
     "data": {
      "image/png": "[encoded data removed]",
      "text/plain": [
       "<Figure size 360x144 with 10 Axes>"
      ]
     },
     "metadata": {},
     "output_type": "display_data"
    },
    {
     "name": "stdout",
     "output_type": "stream",
     "text": [
      "\n",
      "\n",
      "\n",
      "Cluster j:\n"
     ]
    },
    {
     "data": {
      "image/png": "[encoded data removed]",
      "text/plain": [
       "<Figure size 360x72 with 5 Axes>"
      ]
     },
     "metadata": {},
     "output_type": "display_data"
    }
   ],
   "source": [
    "# labels for cluster assignments:\n",
    "letters = list(map(chr, range(97, 123)))\n",
    "\n",
    "# show the images that were categorized within each of the 10 clusters:\n",
    "for cluster in range(10):\n",
    "    print('\\n\\n\\nCluster {}:'.format(letters[cluster]))\n",
    "    digits = [ img for l, img in zip(clusters, valid_set[0]) if int(l) == cluster ]\n",
    "    height = ((len(digits)-1)//5) + 1\n",
    "    width = 5\n",
    "    plt.rcParams[\"figure.figsize\"] = (width,height)\n",
    "    _, subplots = plt.subplots(height, width)\n",
    "    subplots = numpy.ndarray.flatten(subplots)\n",
    "    for subplot, image in zip(subplots, digits):\n",
    "        show_digit(image, subplot=subplot)\n",
    "    for subplot in subplots[len(digits):]:\n",
    "        subplot.axis('off')\n",
    "\n",
    "    plt.show()"
   ]
  },
  {
   "cell_type": "markdown",
   "metadata": {},
   "source": [
    "### Metrics evaluation\n",
    "\n",
    "There are some other metrics-driven ways to evaluate the quality of clusters formed. Once the clustering algorithm (K-Means, K-medoids, self-organizing maps, spectral clustering, etc.) is chosen, metrics like the below are typically compared across different numbers of clusters to assess the quality of the results.\n",
    "\n",
    "* Silhouette width: Evaluates each observation in the dataset through it's average distance from the other data points in the assigned cluster, compared to it's average distance from the data points in the *next closest* cluster. Values above 0 indicate that an observation is correctly assigned.  Below 0 indicate that an observation is probably assigned to the wrong cluster.  \n",
    "\n",
    "* Within-cluster sum of squares vs. total sum of squares: Indicates the portion of the total variability in the dataset that's captured by cluster assignments.\n",
    "\n",
    "We'll demo an evaluation using silhouette width next.\n",
    "\n",
    "More information can be found here for those interested: https://bioinformatics-training.github.io/intro-machine-learning-2017/clustering.html"
   ]
  },
  {
   "cell_type": "markdown",
   "metadata": {},
   "source": [
    "### Silhouette width"
   ]
  },
  {
   "cell_type": "code",
   "execution_count": 20,
   "metadata": {},
   "outputs": [
    {
     "name": "stdout",
     "output_type": "stream",
     "text": [
      "For n_clusters = 10 The average silhouette_score is : -0.008585098\n"
     ]
    },
    {
     "data": {
      "image/png": "[encoded data removed]",
      "text/plain": [
       "<Figure size 1296x504 with 2 Axes>"
      ]
     },
     "metadata": {},
     "output_type": "display_data"
    }
   ],
   "source": [
    "from sklearn.metrics import silhouette_samples, silhouette_score\n",
    "\n",
    "import matplotlib.pyplot as plt\n",
    "import matplotlib.cm as cm\n",
    "import numpy as np\n",
    "\n",
    "pca = PCA(n_components=2)\n",
    "X = valid_data\n",
    "X = scl.transform(X)\n",
    "X_pcs = pca.fit_transform(X)\n",
    "cluster_labels_int = np.array(clusters).astype(int)\n",
    "cluster_labels = np.array([letters[int(item)] for item in clusters])\n",
    "n_clusters = len(set(cluster_labels))\n",
    "range_n_clusters = [10]\n",
    "\n",
    "fig, (ax1, ax2) = plt.subplots(1, 2)\n",
    "fig.set_size_inches(18, 7)\n",
    "# The 1st subplot is the silhouette plot\n",
    "# The silhouette coefficient can range from -1, 1 but in this example all\n",
    "# lie within [-0.1, 1]\n",
    "ax1.set_xlim([-0.1, 1])\n",
    "# The (n_clusters+1)*10 is for inserting blank space between silhouette\n",
    "# plots of individual clusters, to demarcate them clearly.\n",
    "ax1.set_ylim([0, len(X) + (n_clusters + 1) * 10])\n",
    "# The silhouette_score gives the average value for all the samples.\n",
    "# This gives a perspective into the density and separation of the formed\n",
    "# clusters\n",
    "silhouette_avg = silhouette_score(X, cluster_labels)\n",
    "print(\"For n_clusters =\", n_clusters,\n",
    "      \"The average silhouette_score is :\", silhouette_avg)\n",
    "# Compute the silhouette scores for each sample\n",
    "sample_silhouette_values = silhouette_samples(X, cluster_labels)\n",
    "\n",
    "y_lower = 10\n",
    "for i in range(n_clusters):\n",
    "    # Aggregate the silhouette scores for samples belonging to\n",
    "    # cluster i, and sort them\n",
    "    letter = letters[i]\n",
    "    #ith_cluster_silhouette_values = sample_silhouette_values[cluster_labels == i]\n",
    "    ith_cluster_silhouette_values = sample_silhouette_values[cluster_labels == letter]\n",
    "    \n",
    "    ith_cluster_silhouette_values.sort()\n",
    "    size_cluster_i = ith_cluster_silhouette_values.shape[0]\n",
    "    \n",
    "    y_upper = y_lower + size_cluster_i\n",
    "    \n",
    "    \n",
    "    color = cm.nipy_spectral(float(i) / n_clusters)\n",
    "    \n",
    "    ax1.fill_betweenx(np.arange(y_lower, y_upper),\n",
    "                      0, ith_cluster_silhouette_values,\n",
    "                      facecolor=color, edgecolor=color, alpha=0.7)\n",
    "    \n",
    "    # Label the silhouette plots with their cluster numbers at the middle\n",
    "    ax1.text(-0.15, y_lower + 0.5 * size_cluster_i, str(letter))\n",
    "    # Compute the new y_lower for next plot\n",
    "    y_lower = y_upper + 10  # 10 for the 0 samp\n",
    "    \n",
    "ax1.set_title(\"Silhouette Plot - values above 0 indicate likely correct classification\")\n",
    "ax1.set_xlabel(\"Silhouette scores\")\n",
    "ax1.set_ylabel(\"Cluster label\")\n",
    "# The vertical line for average silhouette score of all the values\n",
    "ax1.axvline(x=silhouette_avg, color=\"red\", linestyle=\"--\")\n",
    "ax1.set_yticks([])  # Clear the yaxis labels / ticks\n",
    "ax1.set_xticks([-0.5, -0.25, 0.0, 0.25, 0.5, 0.75])\n",
    "\n",
    "colors = cm.nipy_spectral(cluster_labels_int.astype(float) / n_clusters)\n",
    "ax2.scatter(X_pcs[:, 0], X_pcs[:, 1], marker='.', s=300, lw=0, alpha=0.7,\n",
    "                c=colors, edgecolor='k')\n",
    "\n",
    "# Labeling the clusters\n",
    "#centers = clusterer.cluster_centers_\n",
    "# Draw white circles at cluster centers\n",
    "#ax2.scatter(centers[:, 0], centers[:, 1], marker='o',\n",
    "#            c=\"white\", alpha=1, s=200, edgecolor='k')\n",
    "\n",
    "#for i, c in enumerate(centers):\n",
    "#    ax2.scatter(c[0], c[1], marker='$%d$' % i, alpha=1,\n",
    "#                s=50, edgecolor='k')\n",
    "\n",
    "ax2.set_title(\"2D cluster visualization\")\n",
    "ax2.set_xlabel(\"Feature space for the 1st feature\")\n",
    "ax2.set_ylabel(\"Feature space for the 2nd feature\")\n",
    "\n",
    "plt.suptitle((\"Silhouette analysis for KMeans clustering on sample data \"\n",
    "              \"with n_clusters = %d\" % n_clusters),\n",
    "             fontsize=14, fontweight='bold')\n",
    "plt.show()"
   ]
  },
  {
   "cell_type": "markdown",
   "metadata": {},
   "source": [
    "## Summary\n",
    "\n",
    "Reviewing the silhouette plot, we can see that most data points are assigned to a cluster with other images that are, on average, more similar that those in the next closest cluster. As discussed earlier, the algorithm is only aware of the numeric scores in each pixel and isn't \"smart\" enough to detect advanced patterns within them. Neural networks are able to learn relationships between data points in that manner, but those are beyond the scope of this introduction.\n",
    "\n",
    "Additionally, we can see that the clusters aren't all the same size! K-means doesn't attempt to find equally sized clusters. When results are severely unbalanced, it's an indication of 1) outliers in the data or 2) differences in the density of data points (i.e. many points are together in a small space while a few exist further away).\n",
    "\n",
    "So, K-means isn't an amazingly good classifier for this dataset, but does a decent job."
   ]
  },
  {
   "cell_type": "markdown",
   "metadata": {},
   "source": [
    "## Cleanup\n",
    "\n",
    "Now that we're done evaluating the cluster model, we can remove the endpoint we built from AWS."
   ]
  },
  {
   "cell_type": "code",
   "execution_count": 21,
   "metadata": {},
   "outputs": [
    {
     "name": "stderr",
     "output_type": "stream",
     "text": [
      "INFO:sagemaker:Deleting endpoint with name: kmeans-2018-08-20-21-35-23-448\n"
     ]
    }
   ],
   "source": [
    "# cleanup endpoints once finished:\n",
    "# Can also manage endpoints through AWS CLI or from the console.\n",
    "import sagemaker\n",
    "sagemaker.Session().delete_endpoint(kmeans_predictor.endpoint)"
   ]
  }
 ],
 "metadata": {
  "kernelspec": {
   "display_name": "conda_python3",
   "language": "python",
   "name": "conda_python3"
  },
  "language_info": {
   "codemirror_mode": {
    "name": "ipython",
    "version": 3
   },
   "file_extension": ".py",
   "mimetype": "text/x-python",
   "name": "python",
   "nbconvert_exporter": "python",
   "pygments_lexer": "ipython3",
   "version": "3.6.4"
  }
 },
 "nbformat": 4,
 "nbformat_minor": 2
}
